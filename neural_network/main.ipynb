{
 "cells": [
  {
   "cell_type": "code",
   "execution_count": 6,
   "id": "42f3df14-f230-4170-b7ca-ab83d16378b8",
   "metadata": {},
   "outputs": [
    {
     "name": "stdout",
     "output_type": "stream",
     "text": [
      "Requirement already satisfied: numpy in /Users/xuan-cuongle/opt/anaconda3/lib/python3.9/site-packages (from -r requirements.txt (line 1)) (1.20.3)\n",
      "Requirement already satisfied: progressbar in /Users/xuan-cuongle/opt/anaconda3/lib/python3.9/site-packages (from -r requirements.txt (line 2)) (2.5)\n",
      "Requirement already satisfied: matplotlib in /Users/xuan-cuongle/opt/anaconda3/lib/python3.9/site-packages (from -r requirements.txt (line 3)) (3.4.3)\n",
      "Requirement already satisfied: terminaltables in /Users/xuan-cuongle/opt/anaconda3/lib/python3.9/site-packages (from -r requirements.txt (line 4)) (3.1.10)\n",
      "Requirement already satisfied: scikit-learn in /Users/xuan-cuongle/opt/anaconda3/lib/python3.9/site-packages (from -r requirements.txt (line 5)) (0.24.2)\n",
      "Requirement already satisfied: tabulate in /Users/xuan-cuongle/opt/anaconda3/lib/python3.9/site-packages (from -r requirements.txt (line 6)) (0.8.9)\n",
      "Requirement already satisfied: cycler>=0.10 in /Users/xuan-cuongle/opt/anaconda3/lib/python3.9/site-packages (from matplotlib->-r requirements.txt (line 3)) (0.10.0)\n",
      "Requirement already satisfied: pyparsing>=2.2.1 in /Users/xuan-cuongle/opt/anaconda3/lib/python3.9/site-packages (from matplotlib->-r requirements.txt (line 3)) (3.0.4)\n",
      "Requirement already satisfied: kiwisolver>=1.0.1 in /Users/xuan-cuongle/opt/anaconda3/lib/python3.9/site-packages (from matplotlib->-r requirements.txt (line 3)) (1.3.1)\n",
      "Requirement already satisfied: pillow>=6.2.0 in /Users/xuan-cuongle/opt/anaconda3/lib/python3.9/site-packages (from matplotlib->-r requirements.txt (line 3)) (8.4.0)\n",
      "Requirement already satisfied: python-dateutil>=2.7 in /Users/xuan-cuongle/opt/anaconda3/lib/python3.9/site-packages (from matplotlib->-r requirements.txt (line 3)) (2.8.2)\n",
      "Requirement already satisfied: joblib>=0.11 in /Users/xuan-cuongle/opt/anaconda3/lib/python3.9/site-packages (from scikit-learn->-r requirements.txt (line 5)) (1.1.0)\n",
      "Requirement already satisfied: threadpoolctl>=2.0.0 in /Users/xuan-cuongle/opt/anaconda3/lib/python3.9/site-packages (from scikit-learn->-r requirements.txt (line 5)) (2.2.0)\n",
      "Requirement already satisfied: scipy>=0.19.1 in /Users/xuan-cuongle/opt/anaconda3/lib/python3.9/site-packages (from scikit-learn->-r requirements.txt (line 5)) (1.7.1)\n",
      "Requirement already satisfied: six in /Users/xuan-cuongle/opt/anaconda3/lib/python3.9/site-packages (from cycler>=0.10->matplotlib->-r requirements.txt (line 3)) (1.16.0)\n"
     ]
    }
   ],
   "source": [
    "!pip install -r requirements.txt"
   ]
  },
  {
   "cell_type": "code",
   "execution_count": 10,
   "id": "46e4adf4-616f-46c1-8892-e6ee4c674f27",
   "metadata": {},
   "outputs": [],
   "source": [
    "import os\n",
    "from layers import Activation, Dense, Dropout\n",
    "from loss_functions import CrossEntropy, SquareLoss\n",
    "from optimizers import SGD, Adam\n",
    "from main import process"
   ]
  },
  {
   "cell_type": "code",
   "execution_count": 12,
   "id": "7651f045-d61f-4bc5-84a7-0eb4147b68bf",
   "metadata": {},
   "outputs": [],
   "source": [
    "if not os.path.exists(\"result\"):\n",
    "    os.makedirs(\"result\")"
   ]
  },
  {
   "cell_type": "code",
   "execution_count": 13,
   "id": "75f4e1b0-f386-44df-a1f2-0ae362557afc",
   "metadata": {},
   "outputs": [
    {
     "name": "stderr",
     "output_type": "stream",
     "text": [
      "Training: 100% [================================================] Time: 0:00:01\n"
     ]
    },
    {
     "name": "stdout",
     "output_type": "stream",
     "text": [
      "╒════════════════════╤══════════════╤════════════════╕\n",
      "│ Layer              │   Parameters │ Output Shape   │\n",
      "╞════════════════════╪══════════════╪════════════════╡\n",
      "│ Dense              │            9 │ (3,)           │\n",
      "├────────────────────┼──────────────┼────────────────┤\n",
      "│ Activation Sigmoid │            0 │ (3,)           │\n",
      "├────────────────────┼──────────────┼────────────────┤\n",
      "│ Dense              │            8 │ (2,)           │\n",
      "├────────────────────┼──────────────┼────────────────┤\n",
      "│ Activation Softmax │            0 │ (2,)           │\n",
      "╘════════════════════╧══════════════╧════════════════╛\n",
      "╒════════════════════╤════════════╤═══════════╤═════════════════╕\n",
      "│   Total parameters │   Accuracy │      Loss │   Training time │\n",
      "╞════════════════════╪════════════╪═══════════╪═════════════════╡\n",
      "│                 17 │    0.75565 │ 0.0820565 │         1.44633 │\n",
      "╘════════════════════╧════════════╧═══════════╧═════════════════╛\n"
     ]
    },
    {
     "data": {
      "text/plain": [
       "<Figure size 432x288 with 0 Axes>"
      ]
     },
     "metadata": {},
     "output_type": "display_data"
    }
   ],
   "source": [
    "# MLP with one hidden layer, 3 perceptrons, L2 loss, SGD optimizer, no dropout, 10 epoches\n",
    "process(\n",
    "    [3],\n",
    "    loss_function=SquareLoss,\n",
    "    optimizer=SGD(),\n",
    "    epoches=10,\n",
    "    folder=\"result/requirement_1\",\n",
    ")"
   ]
  },
  {
   "cell_type": "code",
   "execution_count": 15,
   "id": "b009eebd-bc6a-4389-b580-2fd200227871",
   "metadata": {},
   "outputs": [
    {
     "name": "stderr",
     "output_type": "stream",
     "text": [
      "Training: 100% [================================================] Time: 0:01:09\n"
     ]
    },
    {
     "name": "stdout",
     "output_type": "stream",
     "text": [
      "╒════════════════════╤══════════════╤════════════════╕\n",
      "│ Layer              │   Parameters │ Output Shape   │\n",
      "╞════════════════════╪══════════════╪════════════════╡\n",
      "│ Dense              │            9 │ (3,)           │\n",
      "├────────────────────┼──────────────┼────────────────┤\n",
      "│ Activation Sigmoid │            0 │ (3,)           │\n",
      "├────────────────────┼──────────────┼────────────────┤\n",
      "│ Dense              │            8 │ (2,)           │\n",
      "├────────────────────┼──────────────┼────────────────┤\n",
      "│ Activation Softmax │            0 │ (2,)           │\n",
      "╘════════════════════╧══════════════╧════════════════╛\n",
      "╒════════════════════╤════════════╤═══════════╤═════════════════╕\n",
      "│   Total parameters │   Accuracy │      Loss │   Training time │\n",
      "╞════════════════════╪════════════╪═══════════╪═════════════════╡\n",
      "│                 17 │    0.97365 │ 0.0104734 │         69.0437 │\n",
      "╘════════════════════╧════════════╧═══════════╧═════════════════╛\n"
     ]
    },
    {
     "data": {
      "text/plain": [
       "<Figure size 432x288 with 0 Axes>"
      ]
     },
     "metadata": {},
     "output_type": "display_data"
    }
   ],
   "source": [
    "# MLP with one hidden layer, 3 perceptrons, L2 loss, SGD optimizer, no dropout, 500 epoches\n",
    "process(\n",
    "    [3],\n",
    "    loss_function=SquareLoss,\n",
    "    optimizer=SGD(),\n",
    "    epoches=500,\n",
    "    folder=\"result/requirement_2\",\n",
    ")"
   ]
  },
  {
   "cell_type": "code",
   "execution_count": 16,
   "id": "2a56f07c-28e8-47bf-ae97-f6ba5d4e0605",
   "metadata": {},
   "outputs": [
    {
     "name": "stderr",
     "output_type": "stream",
     "text": [
      "Training: 100% [================================================] Time: 0:01:19\n"
     ]
    },
    {
     "name": "stdout",
     "output_type": "stream",
     "text": [
      "╒════════════════════╤══════════════╤════════════════╕\n",
      "│ Layer              │   Parameters │ Output Shape   │\n",
      "╞════════════════════╪══════════════╪════════════════╡\n",
      "│ Dense              │          384 │ (128,)         │\n",
      "├────────────────────┼──────────────┼────────────────┤\n",
      "│ Activation Sigmoid │            0 │ (128,)         │\n",
      "├────────────────────┼──────────────┼────────────────┤\n",
      "│ Dense              │          258 │ (2,)           │\n",
      "├────────────────────┼──────────────┼────────────────┤\n",
      "│ Activation Softmax │            0 │ (2,)           │\n",
      "╘════════════════════╧══════════════╧════════════════╛\n",
      "╒════════════════════╤════════════╤═══════════╤═════════════════╕\n",
      "│   Total parameters │   Accuracy │      Loss │   Training time │\n",
      "╞════════════════════╪════════════╪═══════════╪═════════════════╡\n",
      "│                642 │    0.99905 │ 0.0273826 │          79.692 │\n",
      "╘════════════════════╧════════════╧═══════════╧═════════════════╛\n"
     ]
    },
    {
     "data": {
      "text/plain": [
       "<Figure size 432x288 with 0 Axes>"
      ]
     },
     "metadata": {},
     "output_type": "display_data"
    }
   ],
   "source": [
    "# MLP with one hidden layer, 128 perceptrons, CE loss, Adam optimizer, no dropout, 100 epoches\n",
    "process(\n",
    "    [128],\n",
    "    loss_function=CrossEntropy,\n",
    "    optimizer=Adam(),\n",
    "    epoches=100,\n",
    "    folder=\"result/requirement_3\",\n",
    ")"
   ]
  },
  {
   "cell_type": "code",
   "execution_count": 17,
   "id": "70f40ce0-d862-4c5b-8e01-820a1d671fb0",
   "metadata": {},
   "outputs": [
    {
     "name": "stderr",
     "output_type": "stream",
     "text": [
      "Training: 100% [================================================] Time: 0:01:18\n"
     ]
    },
    {
     "name": "stdout",
     "output_type": "stream",
     "text": [
      "╒════════════════════╤══════════════╤════════════════╕\n",
      "│ Layer              │   Parameters │ Output Shape   │\n",
      "╞════════════════════╪══════════════╪════════════════╡\n",
      "│ Dense              │          384 │ (128,)         │\n",
      "├────────────────────┼──────────────┼────────────────┤\n",
      "│ Activation Sigmoid │            0 │ (128,)         │\n",
      "├────────────────────┼──────────────┼────────────────┤\n",
      "│ Dense              │          258 │ (2,)           │\n",
      "├────────────────────┼──────────────┼────────────────┤\n",
      "│ Activation Softmax │            0 │ (2,)           │\n",
      "╘════════════════════╧══════════════╧════════════════╛\n",
      "╒════════════════════╤════════════╤═══════════╤═════════════════╕\n",
      "│   Total parameters │   Accuracy │      Loss │   Training time │\n",
      "╞════════════════════╪════════════╪═══════════╪═════════════════╡\n",
      "│                642 │    0.99615 │ 0.0279209 │         78.3765 │\n",
      "╘════════════════════╧════════════╧═══════════╧═════════════════╛\n"
     ]
    },
    {
     "data": {
      "text/plain": [
       "<Figure size 432x288 with 0 Axes>"
      ]
     },
     "metadata": {},
     "output_type": "display_data"
    }
   ],
   "source": [
    "# MLP with one hidden layer, 128 perceptrons, CE loss, Adam optimizer, no dropout, 100 epoches\n",
    "process(\n",
    "    [128],\n",
    "    loss_function=CrossEntropy,\n",
    "    optimizer=Adam(),\n",
    "    epoches=100,\n",
    "    folder=\"result/requirement_3\",\n",
    ")"
   ]
  },
  {
   "cell_type": "code",
   "execution_count": 19,
   "id": "716fc386-01cd-46e2-86be-bcdc8a5b8cc6",
   "metadata": {},
   "outputs": [
    {
     "name": "stderr",
     "output_type": "stream",
     "text": [
      "Training: 100% [================================================] Time: 0:01:36\n"
     ]
    },
    {
     "name": "stdout",
     "output_type": "stream",
     "text": [
      "╒════════════════════╤══════════════╤════════════════╕\n",
      "│ Layer              │   Parameters │ Output Shape   │\n",
      "╞════════════════════╪══════════════╪════════════════╡\n",
      "│ Dense              │           96 │ (32,)          │\n",
      "├────────────────────┼──────────────┼────────────────┤\n",
      "│ Activation Sigmoid │            0 │ (32,)          │\n",
      "├────────────────────┼──────────────┼────────────────┤\n",
      "│ Dense              │         2112 │ (64,)          │\n",
      "├────────────────────┼──────────────┼────────────────┤\n",
      "│ Activation Sigmoid │            0 │ (64,)          │\n",
      "├────────────────────┼──────────────┼────────────────┤\n",
      "│ Dense              │         2080 │ (32,)          │\n",
      "├────────────────────┼──────────────┼────────────────┤\n",
      "│ Activation Sigmoid │            0 │ (32,)          │\n",
      "├────────────────────┼──────────────┼────────────────┤\n",
      "│ Dense              │           66 │ (2,)           │\n",
      "├────────────────────┼──────────────┼────────────────┤\n",
      "│ Activation Softmax │            0 │ (2,)           │\n",
      "╘════════════════════╧══════════════╧════════════════╛\n",
      "╒════════════════════╤════════════╤════════════╤═════════════════╕\n",
      "│   Total parameters │   Accuracy │       Loss │   Training time │\n",
      "╞════════════════════╪════════════╪════════════╪═════════════════╡\n",
      "│               4354 │    0.99885 │ 0.00619076 │         96.5509 │\n",
      "╘════════════════════╧════════════╧════════════╧═════════════════╛\n"
     ]
    },
    {
     "data": {
      "text/plain": [
       "<Figure size 432x288 with 0 Axes>"
      ]
     },
     "metadata": {},
     "output_type": "display_data"
    }
   ],
   "source": [
    "    # MLP with three hidden layer, (32, 64, 32)  perceptrons, CE loss, Adam  optimizer, no dropout, 100 epoches\n",
    "    process(\n",
    "        layers=[32, 64, 32],\n",
    "        loss_function=CrossEntropy,\n",
    "        optimizer=Adam(),\n",
    "        epoches=100,\n",
    "        folder=\"result/requirement_4\",\n",
    "    )"
   ]
  },
  {
   "cell_type": "code",
   "execution_count": 18,
   "id": "ba3e39e0-67bd-4dce-9f64-7ebecfeb7899",
   "metadata": {},
   "outputs": [
    {
     "name": "stderr",
     "output_type": "stream",
     "text": [
      "Training: 100% [================================================] Time: 0:02:01\n"
     ]
    },
    {
     "name": "stdout",
     "output_type": "stream",
     "text": [
      "╒════════════════════╤══════════════╤════════════════╕\n",
      "│ Layer              │   Parameters │ Output Shape   │\n",
      "╞════════════════════╪══════════════╪════════════════╡\n",
      "│ Dense              │           96 │ (32,)          │\n",
      "├────────────────────┼──────────────┼────────────────┤\n",
      "│ Activation Sigmoid │            0 │ (32,)          │\n",
      "├────────────────────┼──────────────┼────────────────┤\n",
      "│ Dropout            │            0 │ (32,)          │\n",
      "├────────────────────┼──────────────┼────────────────┤\n",
      "│ Dense              │         2112 │ (64,)          │\n",
      "├────────────────────┼──────────────┼────────────────┤\n",
      "│ Activation Sigmoid │            0 │ (64,)          │\n",
      "├────────────────────┼──────────────┼────────────────┤\n",
      "│ Dropout            │            0 │ (64,)          │\n",
      "├────────────────────┼──────────────┼────────────────┤\n",
      "│ Dense              │         2080 │ (32,)          │\n",
      "├────────────────────┼──────────────┼────────────────┤\n",
      "│ Activation Sigmoid │            0 │ (32,)          │\n",
      "├────────────────────┼──────────────┼────────────────┤\n",
      "│ Dropout            │            0 │ (32,)          │\n",
      "├────────────────────┼──────────────┼────────────────┤\n",
      "│ Dense              │           66 │ (2,)           │\n",
      "├────────────────────┼──────────────┼────────────────┤\n",
      "│ Activation Softmax │            0 │ (2,)           │\n",
      "╘════════════════════╧══════════════╧════════════════╛\n",
      "╒════════════════════╤════════════╤═══════════╤═════════════════╕\n",
      "│   Total parameters │   Accuracy │      Loss │   Training time │\n",
      "╞════════════════════╪════════════╪═══════════╪═════════════════╡\n",
      "│               4354 │    0.99175 │ 0.0655949 │         121.883 │\n",
      "╘════════════════════╧════════════╧═══════════╧═════════════════╛\n"
     ]
    },
    {
     "data": {
      "text/plain": [
       "<Figure size 432x288 with 0 Axes>"
      ]
     },
     "metadata": {},
     "output_type": "display_data"
    }
   ],
   "source": [
    "# MLP with three hidden layer, (32, 64, 32)  perceptrons, CE loss, Adam  optimizer, 20% dropout, 100 epoches\n",
    "process(\n",
    "    layers=[32, 64, 32],\n",
    "    loss_function=CrossEntropy,\n",
    "    optimizer=Adam(),\n",
    "    epoches=100,\n",
    "    folder=\"result/requirement_5\",\n",
    "    dropout=0.2,\n",
    ")"
   ]
  }
 ],
 "metadata": {
  "kernelspec": {
   "display_name": "Python 3 (ipykernel)",
   "language": "python",
   "name": "python3"
  },
  "language_info": {
   "codemirror_mode": {
    "name": "ipython",
    "version": 3
   },
   "file_extension": ".py",
   "mimetype": "text/x-python",
   "name": "python",
   "nbconvert_exporter": "python",
   "pygments_lexer": "ipython3",
   "version": "3.9.7"
  }
 },
 "nbformat": 4,
 "nbformat_minor": 5
}
